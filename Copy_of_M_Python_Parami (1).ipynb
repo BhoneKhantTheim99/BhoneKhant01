{
  "cells": [
    {
      "cell_type": "markdown",
      "metadata": {
        "id": "bBSbIZTtW7q4"
      },
      "source": [
        "1) Write a Python program to create a dictionary that count the frequency of words in the string given in Q1.txt. Find the most frequent occured word."
      ]
    },
    {
      "cell_type": "code",
      "execution_count": null,
      "metadata": {
        "id": "l6y53V9ZWzox"
      },
      "outputs": [],
      "source": [
        "#step 1: read content from Q1.txt into list\n",
        "with open('Q1.txt', 'r') as file1:\n",
        "    wordlist = file1.read()\n",
        "    wordlist = wordlist.lower()\n",
        "counts = dict()\n",
        "new_list = wordlist.split()\n",
        "\n",
        "#creating dictionary \n",
        "for word in new_list:\n",
        "  if word in counts:\n",
        "    counts[word] += 1\n",
        "  else:\n",
        "    counts[word] = 1\n",
        "\n",
        "print(counts)\n",
        "\n",
        "#accumulating values and make it as a list\n",
        "#and find the the largest number\n",
        "v = counts.values()          \n",
        "v = list(v) \n",
        "a = 0\n",
        "for i in range(len(v) - 1):  #a pl\n",
        "  if v[i + 1] > a:\n",
        "    a = v[i + 1]\n",
        "  else:\n",
        "    a = a\n",
        "print (a)\n",
        "\n",
        "#for loop and if the idx count equal a(greatest number = the most occured)\n",
        "frequence = [i for i in counts if counts[i] == a]   #list comprehension\n",
        "print(\"most frequent word is:\", frequence)\n"
      ]
    },
    {
      "cell_type": "markdown",
      "metadata": {
        "id": "aQP7q021Xr9W"
      },
      "source": [
        "2) Write a Python program to read the name from Q2.txt and create email using domain 'parami.edu.mm' and save the results as dictionary : \n",
        "{'name': 'name@parami.edu.mm'}.\n",
        "Please take note that your email should not include space or any special characters and all charcters should be in lowercase. "
      ]
    },
    {
      "cell_type": "code",
      "execution_count": 8,
      "metadata": {
        "colab": {
          "base_uri": "https://localhost:8080/"
        },
        "id": "2B2TGvQCXuR3",
        "outputId": "837b9a0f-a7f4-40a2-e4d8-fa19733564da"
      },
      "outputs": [
        {
          "output_type": "execute_result",
          "data": {
            "text/plain": [
              "{'Dechen Dorji\\n': 'Dechen Dorji\\n@parami.edu.mm',\n",
              " 'Deki Tshomo\\n': 'Deki Tshomo\\n@parami.edu.mm',\n",
              " 'Dorji Tshering\\n': 'Dorji Tshering\\n@parami.edu.mm',\n",
              " 'Dorji Wangmo\\n': 'Dorji Wangmo\\n@parami.edu.mm',\n",
              " 'Gem Tshering Lepcha\\n': 'Gem Tshering Lepcha\\n@parami.edu.mm',\n",
              " 'Jigme Dorji\\n': 'Jigme Dorji\\n@parami.edu.mm',\n",
              " 'Kinley Cheki\\n': 'Kinley Cheki\\n@parami.edu.mm',\n",
              " 'Kinley Wangmo\\n': 'Kinley Wangmo\\n@parami.edu.mm',\n",
              " 'Ngawang Dema Karpo\\n': 'Ngawang Dema Karpo\\n@parami.edu.mm',\n",
              " 'Roshan Chhetri\\n': 'Roshan Chhetri\\n@parami.edu.mm',\n",
              " 'Sonam Tenzin\\n': 'Sonam Tenzin\\n@parami.edu.mm',\n",
              " 'Sonam Tobgay\\n': 'Sonam Tobgay\\n@parami.edu.mm',\n",
              " 'Sonam Yangden\\n': 'Sonam Yangden\\n@parami.edu.mm',\n",
              " 'Tandin Om\\n': 'Tandin Om\\n@parami.edu.mm',\n",
              " 'Tandin Wangchuk\\n': 'Tandin Wangchuk\\n@parami.edu.mm',\n",
              " 'Tashi Om\\n': 'Tashi Om\\n@parami.edu.mm',\n",
              " 'Tenday Zangmo\\n': 'Tenday Zangmo\\n@parami.edu.mm',\n",
              " 'Tshering Pem\\n': 'Tshering Pem\\n@parami.edu.mm',\n",
              " 'Ugyen Phurpa\\n': 'Ugyen Phurpa\\n@parami.edu.mm',\n",
              " 'Marmitt': 'Marmitt@parami.edu.mm'}"
            ]
          },
          "metadata": {},
          "execution_count": 8
        }
      ],
      "source": [
        "#step 1: read Q2. txt into the list\n",
        "with open ('Q2.txt', 'r') as names:\n",
        "  header = names.readline()\n",
        "  namelist = names.readlines()\n",
        "\n",
        "d = dict()\n",
        "for name in namelist:\n",
        "  name = name.strip()\n",
        "  name = name.lower()\n",
        "\n",
        "\n",
        "for name in namelist:\n",
        "  d[name] = name + '@' + 'parami.edu.mm'\n",
        "\n",
        "d\n"
      ]
    }
  ],
  "metadata": {
    "colab": {
      "collapsed_sections": [],
      "provenance": []
    },
    "kernelspec": {
      "display_name": "Python 3",
      "name": "python3"
    },
    "language_info": {
      "name": "python"
    }
  },
  "nbformat": 4,
  "nbformat_minor": 0
}